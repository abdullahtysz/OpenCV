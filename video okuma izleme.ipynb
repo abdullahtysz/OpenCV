{
 "cells": [
  {
   "cell_type": "code",
   "execution_count": 1,
   "id": "4d6d1dc1",
   "metadata": {},
   "outputs": [],
   "source": [
    "import cv2"
   ]
  },
  {
   "cell_type": "code",
   "execution_count": 2,
   "id": "b9ac57ce",
   "metadata": {},
   "outputs": [],
   "source": [
    "# webcam üzerinden \n",
    "\n",
    "cap = cv2.VideoCapture(0) #  0 daihli cam ya da video uzantısı"
   ]
  },
  {
   "cell_type": "code",
   "execution_count": 3,
   "id": "4a74b694",
   "metadata": {},
   "outputs": [],
   "source": [
    "while True : \n",
    "    ret, frame  =cap.read() # cap.read() frameleri doğru okuduysa ret değerim True'dur , yanlış ise F'dur\n",
    "    frame = cv2.flip(frame , 1) # ekrandaki görüntünn düz olmasını istiyorum. bu yüzden cevirmem lazım . y eksenine göre \n",
    "    cv2.imshow(\"Webcam\", frame)\n",
    "    if cv2.waitKey(3) & 0xFF == ord(\"q\"): # her frame 3 ms ekranda görünüp gidecek , q'ya bastıgımda ekranı kapatır\n",
    "        break\n",
    "    \n",
    "cap.release()\n",
    "cv2.destroyAllWindows()"
   ]
  },
  {
   "cell_type": "code",
   "execution_count": null,
   "id": "f2d8f82a",
   "metadata": {},
   "outputs": [],
   "source": [
    "# hazır bir video üzerinden\n",
    "\n",
    "cap = cv2.VideoCapture(\"video_yolu.mp4\")\n",
    "\n",
    "while True : \n",
    "    ret, frame  =cap.read() # cap.read() frameleri doğru okuduysa ret değerim True'dur , yanlış ise F'dur\n",
    "  \n",
    "    # video bittiğinde yani okuyacak frame kalmadıgında çıkmasını istiyorum ekrandan\n",
    "    \n",
    "    if ret == 0 :\n",
    "        break\n",
    "    \n",
    "    \n",
    "    frame = cv2.flip(\"video_ismi\" , 1) # ekrandaki görüntünn düz olmasını istiyorum. bu yüzden cevirmem lazım . y eksenine göre \n",
    "    cv2.imshow(\"Webcam\", frame)\n",
    "    if cv2.waitKey(3) & 0xFF == ord(\"q\"): # her frame 3 ms ekranda görünüp gidecek , q'ya bastıgımda ekranı kapatır\n",
    "        break\n",
    "    \n",
    "cap.release()\n",
    "cv2.destroyAllWindows()\n",
    "\n",
    "\n"
   ]
  }
 ],
 "metadata": {
  "kernelspec": {
   "display_name": "Python 3 (ipykernel)",
   "language": "python",
   "name": "python3"
  },
  "language_info": {
   "codemirror_mode": {
    "name": "ipython",
    "version": 3
   },
   "file_extension": ".py",
   "mimetype": "text/x-python",
   "name": "python",
   "nbconvert_exporter": "python",
   "pygments_lexer": "ipython3",
   "version": "3.9.7"
  }
 },
 "nbformat": 4,
 "nbformat_minor": 5
}
