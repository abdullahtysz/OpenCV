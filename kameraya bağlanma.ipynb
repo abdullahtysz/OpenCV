{
 "cells": [
  {
   "cell_type": "code",
   "execution_count": 3,
   "id": "3f70ec7d",
   "metadata": {
    "collapsed": true
   },
   "outputs": [
    {
     "name": "stderr",
     "output_type": "stream",
     "text": [
      "C:\\Users\\APO\\anaconda3\\lib\\site-packages\\numpy\\_distributor_init.py:30: UserWarning: loaded more than 1 DLL from .libs:\n",
      "C:\\Users\\APO\\anaconda3\\lib\\site-packages\\numpy\\.libs\\libopenblas.WCDJNK7YVMPZQ2ME2ZZHJJRJ3JIKNDB7.gfortran-win_amd64.dll\n",
      "C:\\Users\\APO\\anaconda3\\lib\\site-packages\\numpy\\.libs\\libopenblas.XWYDX2IKJW2NMTWSFYNGFUWKQU3LYTCZ.gfortran-win_amd64.dll\n",
      "  warnings.warn(\"loaded more than 1 DLL from .libs:\"\n"
     ]
    }
   ],
   "source": [
    "import cv2\n"
   ]
  },
  {
   "cell_type": "code",
   "execution_count": 6,
   "id": "76e1761b",
   "metadata": {},
   "outputs": [],
   "source": [
    "cap = cv2.VideoCapture(0)  # kameraya baglandım , \n",
    "\n",
    "width = int(cap.get(cv2.CAP_PROP_FRAME_WIDTH)) # genişlik ve yukseklik ayarladım\n",
    "height = int(cap.get(cv2.CAP_PROP_FRAME_HEIGHT))\n",
    "\n",
    "while True :\n",
    "    ret,frame = cap.read()  # bağlandıgım kameradan framelerimi okuttum\n",
    "    \n",
    "    gray = cv2.cvtColor(frame,cv2.COLOR_BGR2GRAY) # okudugum  frame'i gray renk forrmatına cevirdim\n",
    "    \n",
    "    cv2.imshow('frame', frame) # ekrana bastım\n",
    "    \n",
    "    if cv2.waitKey(1) & 0xFF == ord('q'): # klavyemden q ya bastıgımda cıkacak\n",
    "        break\n",
    "        \n",
    "cap.release()        # camera baglantımı kopardım\n",
    "cv2.destroyAllWindows() # ekranı kapattım"
   ]
  },
  {
   "cell_type": "code",
   "execution_count": null,
   "id": "306262ed",
   "metadata": {},
   "outputs": [],
   "source": []
  }
 ],
 "metadata": {
  "kernelspec": {
   "display_name": "Python 3",
   "language": "python",
   "name": "python3"
  },
  "language_info": {
   "codemirror_mode": {
    "name": "ipython",
    "version": 3
   },
   "file_extension": ".py",
   "mimetype": "text/x-python",
   "name": "python",
   "nbconvert_exporter": "python",
   "pygments_lexer": "ipython3",
   "version": "3.8.8"
  }
 },
 "nbformat": 4,
 "nbformat_minor": 5
}
