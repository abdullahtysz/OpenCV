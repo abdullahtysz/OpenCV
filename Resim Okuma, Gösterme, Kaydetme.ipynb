{
 "cells": [
  {
   "cell_type": "code",
   "execution_count": 1,
   "id": "ec7f2b08",
   "metadata": {},
   "outputs": [],
   "source": [
    "import cv2"
   ]
  },
  {
   "cell_type": "code",
   "execution_count": 2,
   "id": "61b7366e",
   "metadata": {},
   "outputs": [],
   "source": [
    "img = cv2.imread(\"mvp.jpg\", 0) # resmi gri tonlarda okur 0 "
   ]
  },
  {
   "cell_type": "code",
   "execution_count": 3,
   "id": "d8a66403",
   "metadata": {},
   "outputs": [],
   "source": [
    "cv2.namedWindow(\"image\", cv2.WINDOW_NORMAL) # resmi istediğim gbi köşesinden tutup küçültüp büyuültmek için"
   ]
  },
  {
   "cell_type": "code",
   "execution_count": 4,
   "id": "07fa3a80",
   "metadata": {},
   "outputs": [],
   "source": [
    "cv2.imshow(\"image\", img) # resmi gösermek isteğimde\n",
    "\n",
    "cv2.imwrite(\"klon1.jpg\", img)  #dosyamı kaydet\n",
    "cv2.waitKey(0)\n",
    "\n",
    "cv2.destroyAllWindows()"
   ]
  },
  {
   "cell_type": "code",
   "execution_count": null,
   "id": "f253048c",
   "metadata": {},
   "outputs": [],
   "source": [
    "# dosya yolunda TR karakter olmamasına dikkat etmeliyiz"
   ]
  },
  {
   "cell_type": "code",
   "execution_count": null,
   "id": "ce11afc3",
   "metadata": {},
   "outputs": [],
   "source": []
  }
 ],
 "metadata": {
  "kernelspec": {
   "display_name": "Python 3 (ipykernel)",
   "language": "python",
   "name": "python3"
  },
  "language_info": {
   "codemirror_mode": {
    "name": "ipython",
    "version": 3
   },
   "file_extension": ".py",
   "mimetype": "text/x-python",
   "name": "python",
   "nbconvert_exporter": "python",
   "pygments_lexer": "ipython3",
   "version": "3.9.7"
  }
 },
 "nbformat": 4,
 "nbformat_minor": 5
}
