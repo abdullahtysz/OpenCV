{
 "cells": [
  {
   "cell_type": "code",
   "execution_count": 1,
   "id": "57b9488a",
   "metadata": {},
   "outputs": [],
   "source": [
    "# library\n",
    "import cv2 \n",
    "import numpy as np"
   ]
  },
  {
   "cell_type": "code",
   "execution_count": 2,
   "id": "dbd7da51",
   "metadata": {},
   "outputs": [
    {
     "data": {
      "text/plain": [
       "array([[[143, 138, 139],\n",
       "        [139, 134, 135],\n",
       "        [137, 134, 136],\n",
       "        ...,\n",
       "        [ 36,  38,  39],\n",
       "        [ 35,  37,  38],\n",
       "        [ 33,  35,  36]],\n",
       "\n",
       "       [[143, 138, 139],\n",
       "        [146, 144, 144],\n",
       "        [153, 150, 152],\n",
       "        ...,\n",
       "        [ 37,  39,  40],\n",
       "        [ 35,  37,  38],\n",
       "        [ 34,  36,  37]],\n",
       "\n",
       "       [[141, 139, 139],\n",
       "        [146, 144, 144],\n",
       "        [152, 149, 151],\n",
       "        ...,\n",
       "        [ 37,  39,  40],\n",
       "        [ 35,  37,  38],\n",
       "        [ 34,  36,  37]],\n",
       "\n",
       "       ...,\n",
       "\n",
       "       [[211, 200, 196],\n",
       "        [210, 199, 195],\n",
       "        [209, 198, 194],\n",
       "        ...,\n",
       "        [157, 137, 132],\n",
       "        [159, 139, 134],\n",
       "        [163, 143, 138]],\n",
       "\n",
       "       [[213, 202, 198],\n",
       "        [211, 200, 196],\n",
       "        [210, 199, 195],\n",
       "        ...,\n",
       "        [159, 139, 134],\n",
       "        [158, 138, 133],\n",
       "        [154, 134, 129]],\n",
       "\n",
       "       [[213, 202, 198],\n",
       "        [211, 200, 196],\n",
       "        [210, 199, 195],\n",
       "        ...,\n",
       "        [159, 139, 134],\n",
       "        [158, 138, 133],\n",
       "        [154, 134, 129]]], dtype=uint8)"
      ]
     },
     "execution_count": 2,
     "metadata": {},
     "output_type": "execute_result"
    }
   ],
   "source": [
    "# reading , saving , displaying images\n",
    "\n",
    "img = cv2.imread(\"bd.jpg\")\n",
    "#img\n",
    "\n",
    "cv2.imwrite(\"clone_copy.jpg\", img) # bir resmi başka bir isimle kaydettim\n",
    "\n",
    "\n",
    "cv2.imshow(\"Boston\", img)\n",
    "\n",
    "cv2.waitKey(0)\n",
    "cv2.destroyAllWindows()\n"
   ]
  },
  {
   "cell_type": "code",
   "execution_count": 9,
   "id": "5d2418ba",
   "metadata": {},
   "outputs": [
    {
     "name": "stdout",
     "output_type": "stream",
     "text": [
      "(810, 1440, 3)\n",
      "(810, 1440)\n",
      "(810, 1440, 3)\n"
     ]
    }
   ],
   "source": [
    "# colorspace\n",
    "img = cv2.imread(\"bd.jpg\") #  görüntüler her zaman bgr formatında okunur\n",
    "print(img.shape) # 3 , rgb yani görüntü renkli ise 3tür\n",
    "\n",
    "gray  =  cv2.cvtColor(img, cv2.COLOR_BGR2GRAY) # \n",
    "print(gray.shape)\n",
    "\n",
    "\n",
    "hsv  = cv2.cvtColor(img, cv2.COLOR_BGR2HSV)\n",
    "print(hsv.shape)\n",
    "\n",
    "cv2.imshow(\"Original Image\", img)\n",
    "cv2.imshow(\"Grayscale Image\", gray)\n",
    "cv2.imshow(\"Hsvscale Image\", hsv)\n",
    "\n",
    "\n",
    "cv2.waitKey(0)\n",
    "cv2.destroyAllWindows()"
   ]
  },
  {
   "cell_type": "code",
   "execution_count": 14,
   "id": "2fda28c6",
   "metadata": {},
   "outputs": [
    {
     "name": "stdout",
     "output_type": "stream",
     "text": [
      "(810, 1440, 3)\n",
      "(128, 128, 3)\n"
     ]
    }
   ],
   "source": [
    "# Scaling\n",
    "\n",
    "\n",
    "img = cv2.imread(\"bd.jpg\") #  görüntüler her zaman bgr formatında okunur\n",
    "\n",
    "resized_img = cv2.resize(img , (128,128))\n",
    "\n",
    "print(img.shape)\n",
    "\n",
    "print(resized_img.shape)\n",
    "\n",
    "\n",
    "cv2.imshow(\"Boston\", img)\n",
    "cv2.imshow(\"Resized_Boston\", resized_img)\n",
    "\n",
    "cv2.waitKey(0)\n",
    "cv2.destroyAllWindows()\n"
   ]
  },
  {
   "cell_type": "code",
   "execution_count": 17,
   "id": "6e1d7535",
   "metadata": {},
   "outputs": [],
   "source": [
    "# roi (görüntünün belirli bir kkısmına odaklandıgımızda)\n",
    "\n",
    "img = cv2.imread(\"bd.jpg\")\n",
    "face = img[30:200, 200:400] # resmin hangi kısmına odaklanacağımı ayarlayabilirim.\n",
    "\n",
    "\n",
    "cv2.imshow(\"Face_Boston\", face)\n",
    "\n",
    "cv2.imshow(\"Boston\", img)\n",
    "cv2.waitKey(0)\n",
    "cv2.destroyAllWindows()\n"
   ]
  },
  {
   "cell_type": "code",
   "execution_count": 20,
   "id": "368e8bcd",
   "metadata": {},
   "outputs": [],
   "source": [
    "# drawing func. - line\n",
    "color = (255,255,0)\n",
    "canva = np.zeros((512,512,3), dtype = np.uint8) + 100\n",
    "#canva\n",
    "cv2.line(canva,(0,0),(200,250), color,2)\n",
    "\n",
    "cv2.imshow(\"Canva\", canva)\n",
    "cv2.waitKey(0)\n",
    "cv2.destroyAllWindows()"
   ]
  },
  {
   "cell_type": "code",
   "execution_count": 21,
   "id": "64a8c748",
   "metadata": {},
   "outputs": [],
   "source": [
    "# drawing func. - circle\n",
    "color = (255,255,0)\n",
    "canva = np.zeros((512,512,3), dtype = np.uint8) + 100\n",
    "#canva\n",
    "cv2.circle(canva,(100,50),35, color,2) # 35 cemberin çapı ,2  kalınlık \n",
    "\n",
    "\n",
    "cv2.imshow(\"Canva\", canva)\n",
    "cv2.waitKey(0)\n",
    "cv2.destroyAllWindows()"
   ]
  },
  {
   "cell_type": "code",
   "execution_count": 26,
   "id": "252c801a",
   "metadata": {},
   "outputs": [],
   "source": [
    "# drawing func. - text\n",
    "\n",
    "color = (255,255,0)\n",
    "line_type = cv2.LINE_AA\n",
    "font = cv2.FONT_HERSHEY_SIMPLEX\n",
    "font_scale = 4\n",
    "thickness = 2\n",
    "\n",
    "canva = np.zeros((512,512,3), dtype = np.uint8) + 100 # tuval oluşturdum\n",
    "#canva\n",
    "cv2.putText(canva,\"ABCDE\",(100,100),font,font_scale , color,thickness  , line_type ) # 100,50 koordinat ,2  kalınlık \n",
    "\n",
    "\n",
    "cv2.imshow(\"Canva\", canva)\n",
    "cv2.waitKey(0)\n",
    "cv2.destroyAllWindows()\n"
   ]
  },
  {
   "cell_type": "code",
   "execution_count": null,
   "id": "1b0534fd",
   "metadata": {},
   "outputs": [],
   "source": [
    "# video okuma\n",
    "\n",
    "cap =  cv2.VideoCapture(0)"
   ]
  }
 ],
 "metadata": {
  "kernelspec": {
   "display_name": "Python 3 (ipykernel)",
   "language": "python",
   "name": "python3"
  },
  "language_info": {
   "codemirror_mode": {
    "name": "ipython",
    "version": 3
   },
   "file_extension": ".py",
   "mimetype": "text/x-python",
   "name": "python",
   "nbconvert_exporter": "python",
   "pygments_lexer": "ipython3",
   "version": "3.9.7"
  }
 },
 "nbformat": 4,
 "nbformat_minor": 5
}
